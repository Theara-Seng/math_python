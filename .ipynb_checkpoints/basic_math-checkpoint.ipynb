{
 "cells": [
  {
   "cell_type": "markdown",
   "id": "8f00a76d-1a28-48d3-8f88-c69b80f51068",
   "metadata": {},
   "source": [
    "# Basic Math Concept \n",
    "\n",
    "## We will cover the following main topics in this order\n",
    "\n",
    "* Python Numberical Types\n",
    "* Basic Mathmatical Function\n",
    "* Numpy Array\n",
    "* Matrices"
   ]
  },
  {
   "cell_type": "markdown",
   "id": "f5da7068-25a8-4403-9e92-517103d640ec",
   "metadata": {},
   "source": [
    "## Python Numerical Types\n",
    "\n",
    "Python provides basic numerical types such as arbitrarily sized integers and floating-point number as standard, but it also provides sserval additional types that are useful in specific applications where precision is especially important. Python also provides build-in support for complex numbers, which are useful for some more advanced mathematical application."
   ]
  },
  {
   "cell_type": "markdown",
   "id": "6312f914-4f56-443a-85bd-89409cd32a75",
   "metadata": {},
   "source": [
    "### Decimal Types"
   ]
  },
  {
   "cell_type": "markdown",
   "id": "b48a68ec-d0c9-4c2c-a6c4-805205148a17",
   "metadata": {},
   "source": [
    "For application that require decimal digits which accurate arithmatic operation, use the decimal type form the decimal module in the python standard Library"
   ]
  },
  {
   "cell_type": "code",
   "execution_count": 1,
   "id": "205c94a9-fde1-4554-bfee-b37983633da4",
   "metadata": {},
   "outputs": [
    {
     "data": {
      "text/plain": [
       "Decimal('2.663')"
      ]
     },
     "execution_count": 1,
     "metadata": {},
     "output_type": "execute_result"
    }
   ],
   "source": [
    "from decimal import Decimal \n",
    "num1 = Decimal('1.1')\n",
    "num2 = Decimal('1.563')\n",
    "num1 + num2 "
   ]
  },
  {
   "cell_type": "markdown",
   "id": "fabf03cc-391f-4e0c-96fe-c3315c8044ad",
   "metadata": {},
   "source": [
    "The decimal type is based on the IBM General Decimal Arithmetic Specification which is an alternative specification for floating-point arithmatic that represents decimal numbers exactly by using powrs of 10 rather that power of 2. This mean that it can be safely used for calculations in finance where the accumulation of rounding error would have dire consequences. However, the decimal format is less memory efficient, since it must store decimal digits rather than binary digits, and are more computationally expensive that traditional floating-point number."
   ]
  },
  {
   "cell_type": "markdown",
   "id": "ddff7b18-fe29-4f69-be5e-51e7f406515c",
   "metadata": {},
   "source": [
    "### Fraction Type "
   ]
  },
  {
   "cell_type": "markdown",
   "id": "d06754d1-ac38-4ac9-b25d-c3e123b8a13b",
   "metadata": {},
   "source": [
    "Alternatively, for working with applications that require accurate representations of integer fraction, such as when working with porportions or probabilities, there is the Fraction type from the fractions module in the python standard library. The usage is similar, except that we typically give the numerator and denominator of the fraction as arguments:"
   ]
  },
  {
   "cell_type": "code",
   "execution_count": 4,
   "id": "d18036c1-803f-41aa-900f-90965858562d",
   "metadata": {},
   "outputs": [
    {
     "data": {
      "text/plain": [
       "Fraction(4, 21)"
      ]
     },
     "execution_count": 4,
     "metadata": {},
     "output_type": "execute_result"
    }
   ],
   "source": [
    "from fractions import Fraction\n",
    "num1 = Fraction(1, 3)\n",
    "num2 = Fraction(4, 7)\n",
    "num1 * num2 "
   ]
  },
  {
   "cell_type": "markdown",
   "id": "2289f995-8772-4fc9-95cb-2272add74c52",
   "metadata": {},
   "source": [
    "From the fraction above, 4 is the numerator and 21 is the denominator, so if you want to get the numerator or denominator from this fraction you can use:"
   ]
  },
  {
   "cell_type": "code",
   "execution_count": 5,
   "id": "ee863070-8ee8-4583-99e6-a279b6e9a55b",
   "metadata": {},
   "outputs": [],
   "source": [
    "result= num1*num2\n",
    "numerator = result.numerator\n",
    "denominator = result.denominator\n"
   ]
  },
  {
   "cell_type": "code",
   "execution_count": 6,
   "id": "8fd3f1bd-a2e2-40a8-8d36-acff4faa6bcc",
   "metadata": {},
   "outputs": [
    {
     "data": {
      "text/plain": [
       "4"
      ]
     },
     "execution_count": 6,
     "metadata": {},
     "output_type": "execute_result"
    }
   ],
   "source": [
    "numerator "
   ]
  },
  {
   "cell_type": "code",
   "execution_count": 7,
   "id": "46ca56ba-5f11-4bd0-afa4-1ae6d7d0ed48",
   "metadata": {},
   "outputs": [
    {
     "data": {
      "text/plain": [
       "21"
      ]
     },
     "execution_count": 7,
     "metadata": {},
     "output_type": "execute_result"
    }
   ],
   "source": [
    "denominator "
   ]
  },
  {
   "cell_type": "markdown",
   "id": "a448690d-748e-4b34-9b81-66173cc37ce1",
   "metadata": {},
   "source": [
    "### Complex Type "
   ]
  },
  {
   "cell_type": "markdown",
   "id": "0739e5d2-0986-408f-9803-c0700250cda2",
   "metadata": {},
   "source": [
    "Python also has support for complex number, including a literal charater to denote the complex unit 1j in code. This might be different from the idiom for representing the complex until that you are familiar with from other sources on complex number. Most mathmatical texts will often use the symbol i to represent the complext unit:"
   ]
  },
  {
   "cell_type": "code",
   "execution_count": 11,
   "id": "5971e719-d6d9-44f3-9d55-b4c31d9e5a2e",
   "metadata": {},
   "outputs": [
    {
     "data": {
      "text/plain": [
       "(3+4j)"
      ]
     },
     "execution_count": 11,
     "metadata": {},
     "output_type": "execute_result"
    }
   ],
   "source": [
    "z = 1 + 1j\n",
    "z + 2+ 3j"
   ]
  },
  {
   "cell_type": "code",
   "execution_count": 12,
   "id": "c0bc888e-b63b-432c-8069-d299ff1590bc",
   "metadata": {},
   "outputs": [
    {
     "data": {
      "text/plain": [
       "(1-1j)"
      ]
     },
     "execution_count": 12,
     "metadata": {},
     "output_type": "execute_result"
    }
   ],
   "source": [
    "z.conjugate()"
   ]
  },
  {
   "cell_type": "markdown",
   "id": "dc617b49-6452-4261-8d58-8ea1be6edbd2",
   "metadata": {},
   "source": [
    "conjugate means to change the sign of the imaginary part, z = 1+1j, conjugate change from 1j to -1j"
   ]
  },
  {
   "cell_type": "markdown",
   "id": "04ff8923-e92f-43d0-9944-54d32a445aa6",
   "metadata": {},
   "source": [
    "## Basic Mathematical Functions\n",
    "\n",
    "Basic mathematical function appear in many applications. For example, logarithms can be used to scal data that grows exponentially to give linear data. The exponential function and trigonometric functions are common fixtures when working with geometric information, the gamma function appears in combinatorics, and the Gaussian error function is important in statistic."
   ]
  },
  {
   "cell_type": "markdown",
   "id": "f6b501db-759f-4a68-81e4-e70c371bb40e",
   "metadata": {},
   "source": [
    "The math module in the python standard library provides all of the standard mathematical functions, along with common constants and some utility functions, and it can be imported using the following command.\n"
   ]
  },
  {
   "cell_type": "code",
   "execution_count": 14,
   "id": "62e1116c-f81b-45a5-a7d4-a5fe5708d28f",
   "metadata": {},
   "outputs": [],
   "source": [
    "import math "
   ]
  },
  {
   "cell_type": "markdown",
   "id": "cc89399b-b71e-4197-9bee-d714fac73eb0",
   "metadata": {},
   "source": [
    "For instance, to find the square root of a non-negative number, we would use the sqrt function from math"
   ]
  },
  {
   "cell_type": "code",
   "execution_count": 15,
   "id": "a0f0f9d7-d913-49df-93be-c8679a771789",
   "metadata": {},
   "outputs": [
    {
     "data": {
      "text/plain": [
       "2.0"
      ]
     },
     "execution_count": 15,
     "metadata": {},
     "output_type": "execute_result"
    }
   ],
   "source": [
    "import math \n",
    "math.sqrt(4)"
   ]
  },
  {
   "cell_type": "markdown",
   "id": "16c5f6de-257d-4270-b17d-ba4b53e0029b",
   "metadata": {},
   "source": [
    "The trigonometric function, sine, cosine, and tanget, are available under their common abbreviations sin, cos, and tan, respectively, in the math module. The pi constant hold the value of $\\pi$ which is approximately 3.1416"
   ]
  },
  {
   "cell_type": "code",
   "execution_count": 29,
   "id": "5478788f-2d80-4ac3-866c-92f59a46238d",
   "metadata": {},
   "outputs": [
    {
     "data": {
      "text/plain": [
       "0.5253219888177297"
      ]
     },
     "execution_count": 29,
     "metadata": {},
     "output_type": "execute_result"
    }
   ],
   "source": [
    "theta = math.pi/4*(180/math.pi)\n",
    "math.cos(theta)"
   ]
  },
  {
   "cell_type": "markdown",
   "id": "53cb9fcd-42f3-4803-add1-fc8372026236",
   "metadata": {},
   "source": [
    "To convert an angle from radians to degrees, you can use the formula:\n",
    "\\begin{equation}\n",
    "    degree = radian\\times \\frac{180}{\\pi}\n",
    "\\end{equation}"
   ]
  },
  {
   "cell_type": "markdown",
   "id": "097a8cef-1b88-48d0-b404-5b0cebbf97fa",
   "metadata": {},
   "source": [
    "## Numpy Arrays "
   ]
  },
  {
   "cell_type": "markdown",
   "id": "faca7b9e-f9f4-477b-9b3f-109344da8dba",
   "metadata": {},
   "source": [
    "Numpy Array provides high performance array types and routines for manipulating these arrays in python. These arrays are useful for processing large datasets where performance is crucial. Numpy froms the base fro the numerical and scientific computing stack in Python. Under the hood, Numpy make use of low-level libraries for working with vectors and matrics, such as the *Basic linear Algebra Subprogram and the Linear Algegra Package contain more advanced routines for linear algebra"
   ]
  },
  {
   "cell_type": "markdown",
   "id": "59bafe80-ccaf-4fff-882b-f85164dad04e",
   "metadata": {},
   "source": [
    "Traditoinally, the numpy package is import under the shorter alias np, which can be accomplished using the following import statement`"
   ]
  },
  {
   "cell_type": "code",
   "execution_count": 30,
   "id": "fe78b2a7-9bc5-4f1c-af43-6838de08b969",
   "metadata": {},
   "outputs": [],
   "source": [
    "import numpy as np"
   ]
  },
  {
   "cell_type": "markdown",
   "id": "8aedf8f6-45be-41e0-8d4a-cedc9fd82240",
   "metadata": {},
   "source": [
    "For example, we can create a simple array by providing a list with the required element "
   ]
  },
  {
   "cell_type": "code",
   "execution_count": 31,
   "id": "64c1d23a-e4fa-4d70-9a59-47b373591194",
   "metadata": {},
   "outputs": [],
   "source": [
    "arr = np.array([1,2,3,4])"
   ]
  },
  {
   "cell_type": "code",
   "execution_count": 32,
   "id": "16579bc9-95f4-496a-8aed-0e77c572e09f",
   "metadata": {},
   "outputs": [
    {
     "data": {
      "text/plain": [
       "array([1, 2, 3, 4])"
      ]
     },
     "execution_count": 32,
     "metadata": {},
     "output_type": "execute_result"
    }
   ],
   "source": [
    "arr"
   ]
  },
  {
   "cell_type": "markdown",
   "id": "39889a35-7a85-4a3e-b63f-72ee3126f40b",
   "metadata": {},
   "source": [
    "Numpy will infer an appropriate data type during creation if one is not explicitly provided using the dtype keyword argument:"
   ]
  },
  {
   "cell_type": "code",
   "execution_count": 34,
   "id": "3efadef8-33fc-4b2f-b85d-6aa82b7e523e",
   "metadata": {},
   "outputs": [],
   "source": [
    "arr1 = np.array([1,2,3,4], dtype= np.float32)"
   ]
  },
  {
   "cell_type": "code",
   "execution_count": 35,
   "id": "7acd5588-c8dc-49df-b4c4-5cc3397d541b",
   "metadata": {},
   "outputs": [
    {
     "data": {
      "text/plain": [
       "array([1., 2., 3., 4.], dtype=float32)"
      ]
     },
     "execution_count": 35,
     "metadata": {},
     "output_type": "execute_result"
    }
   ],
   "source": [
    "arr1"
   ]
  },
  {
   "cell_type": "code",
   "execution_count": 36,
   "id": "4a16cdd9-832d-4dc2-bc7f-659aa2f57340",
   "metadata": {},
   "outputs": [],
   "source": [
    "arr = np.array([1.4,2,3,4])"
   ]
  },
  {
   "cell_type": "code",
   "execution_count": 37,
   "id": "51b14dde-f252-4820-831b-fb0cf2552ab3",
   "metadata": {},
   "outputs": [
    {
     "data": {
      "text/plain": [
       "array([1.4, 2. , 3. , 4. ])"
      ]
     },
     "execution_count": 37,
     "metadata": {},
     "output_type": "execute_result"
    }
   ],
   "source": [
    "arr"
   ]
  },
  {
   "cell_type": "markdown",
   "id": "38a2027d-669d-44a6-ac7b-aa276d5f3df2",
   "metadata": {},
   "source": [
    "instead if you wish to change the data type after creation, use the astype method to specify the new type. The correct way to change the data type is shown here"
   ]
  },
  {
   "cell_type": "code",
   "execution_count": 38,
   "id": "42f82c33-e300-4e32-8fd3-425bdd6213a7",
   "metadata": {},
   "outputs": [],
   "source": [
    "arr = arr.astype(np.float32)"
   ]
  },
  {
   "cell_type": "code",
   "execution_count": 40,
   "id": "283887aa-0999-4b20-afc0-831d7413bf06",
   "metadata": {},
   "outputs": [
    {
     "name": "stdout",
     "output_type": "stream",
     "text": [
      "[1.4 2.  3.  4. ]\n"
     ]
    }
   ],
   "source": [
    "print(arr)"
   ]
  },
  {
   "cell_type": "markdown",
   "id": "e0c07d67-775b-45a2-ad1f-cdd0464b1e43",
   "metadata": {},
   "source": [
    "## Element Access "
   ]
  },
  {
   "cell_type": "markdown",
   "id": "96563eeb-3253-4f0b-bf77-d7678de3e8d3",
   "metadata": {},
   "source": [
    "Numpy array support the getitem protocol, so elements in an array can accessed as if it were a list and support all of the arithmetic operation, which are performed componentwise. This mean that we can use the index notation and the index to retrieve the element from the specified index ads follows"
   ]
  },
  {
   "cell_type": "code",
   "execution_count": 41,
   "id": "0ab20f6e-d811-4f30-a7da-abaa5f0b9054",
   "metadata": {},
   "outputs": [],
   "source": [
    "arr = np.array([1,2,3,4])"
   ]
  },
  {
   "cell_type": "code",
   "execution_count": 42,
   "id": "fc4fe2d2-7038-4a7d-8520-e30646065b20",
   "metadata": {},
   "outputs": [
    {
     "data": {
      "text/plain": [
       "1"
      ]
     },
     "execution_count": 42,
     "metadata": {},
     "output_type": "execute_result"
    }
   ],
   "source": [
    "arr[0]"
   ]
  },
  {
   "cell_type": "code",
   "execution_count": 43,
   "id": "4dc6d08e-dfc3-4a76-b791-9f0b859aebcf",
   "metadata": {},
   "outputs": [
    {
     "data": {
      "text/plain": [
       "4"
      ]
     },
     "execution_count": 43,
     "metadata": {},
     "output_type": "execute_result"
    }
   ],
   "source": [
    "arr[3]"
   ]
  },
  {
   "cell_type": "markdown",
   "id": "91e0b6b9-0254-485d-bf50-575760ef44e5",
   "metadata": {},
   "source": [
    "This also includes the usual slice syntax for extracting an array of data from an existing array. A slice of an array is again an array, containing the elements specified by the slice. For example, we can retrieve an array containing the first two element of arr, or an array as follow:"
   ]
  },
  {
   "cell_type": "code",
   "execution_count": 44,
   "id": "38b14a54-6aaf-4e8a-bb03-8ee045165940",
   "metadata": {},
   "outputs": [],
   "source": [
    "first_two = arr[:2]"
   ]
  },
  {
   "cell_type": "code",
   "execution_count": 45,
   "id": "92d4b466-fe55-4a8b-bf1d-9fce31d5292e",
   "metadata": {},
   "outputs": [
    {
     "data": {
      "text/plain": [
       "array([1, 2])"
      ]
     },
     "execution_count": 45,
     "metadata": {},
     "output_type": "execute_result"
    }
   ],
   "source": [
    "first_two"
   ]
  },
  {
   "cell_type": "code",
   "execution_count": 46,
   "id": "3b37e68a-9c53-4dc7-8d03-4743c6b1a41a",
   "metadata": {},
   "outputs": [],
   "source": [
    "even_idx = arr[::2]"
   ]
  },
  {
   "cell_type": "code",
   "execution_count": 47,
   "id": "9c3065b2-52b4-42b8-9fe1-7a38229d9d45",
   "metadata": {},
   "outputs": [
    {
     "data": {
      "text/plain": [
       "array([1, 3])"
      ]
     },
     "execution_count": 47,
     "metadata": {},
     "output_type": "execute_result"
    }
   ],
   "source": [
    "even_idx "
   ]
  },
  {
   "cell_type": "code",
   "execution_count": 50,
   "id": "4806ebb8-c82a-484d-9a3e-04214df527ae",
   "metadata": {},
   "outputs": [],
   "source": [
    "last_two = arr[-2:]"
   ]
  },
  {
   "cell_type": "code",
   "execution_count": 51,
   "id": "7668c6df-d5bb-411f-9caf-5e2df2d8110d",
   "metadata": {},
   "outputs": [
    {
     "data": {
      "text/plain": [
       "array([3, 4])"
      ]
     },
     "execution_count": 51,
     "metadata": {},
     "output_type": "execute_result"
    }
   ],
   "source": [
    "last_two"
   ]
  },
  {
   "cell_type": "markdown",
   "id": "00808170-a421-407d-8fd5-595f2362f783",
   "metadata": {},
   "source": [
    "## Using array creation Routines"
   ]
  },
  {
   "cell_type": "markdown",
   "id": "7076c478-736d-4654-bd6e-7afc66d098ef",
   "metadata": {},
   "source": [
    "To generate arrays of numbers at regula interval between two given end points, you can use either the arange routine or the linspace routine. The difference between thes two routines is that linespace generate a number (the default is 50) of values with equal spacing between the two end points, including both end points, while arange generates numbers at a given step size up to, but not including the upper limit. The linespace routine generates values in the closed interval $a\\leq{x}\\leq{b}$ and the arrange generates values in the half-open interval $a\\leq{x}<{b}$"
   ]
  },
  {
   "cell_type": "code",
   "execution_count": 52,
   "id": "db9d9b99-8ef8-4132-b99f-1ce10b13ebb8",
   "metadata": {},
   "outputs": [
    {
     "data": {
      "text/plain": [
       "array([0.  , 0.25, 0.5 , 0.75, 1.  ])"
      ]
     },
     "execution_count": 52,
     "metadata": {},
     "output_type": "execute_result"
    }
   ],
   "source": [
    "np.linspace(0,1,5)"
   ]
  },
  {
   "cell_type": "code",
   "execution_count": 53,
   "id": "a0bc8b94-171d-461f-af61-18e4910abded",
   "metadata": {},
   "outputs": [
    {
     "data": {
      "text/plain": [
       "array([0.        , 0.02040816, 0.04081633, 0.06122449, 0.08163265,\n",
       "       0.10204082, 0.12244898, 0.14285714, 0.16326531, 0.18367347,\n",
       "       0.20408163, 0.2244898 , 0.24489796, 0.26530612, 0.28571429,\n",
       "       0.30612245, 0.32653061, 0.34693878, 0.36734694, 0.3877551 ,\n",
       "       0.40816327, 0.42857143, 0.44897959, 0.46938776, 0.48979592,\n",
       "       0.51020408, 0.53061224, 0.55102041, 0.57142857, 0.59183673,\n",
       "       0.6122449 , 0.63265306, 0.65306122, 0.67346939, 0.69387755,\n",
       "       0.71428571, 0.73469388, 0.75510204, 0.7755102 , 0.79591837,\n",
       "       0.81632653, 0.83673469, 0.85714286, 0.87755102, 0.89795918,\n",
       "       0.91836735, 0.93877551, 0.95918367, 0.97959184, 1.        ])"
      ]
     },
     "execution_count": 53,
     "metadata": {},
     "output_type": "execute_result"
    }
   ],
   "source": [
    "np.linspace(0,1)"
   ]
  },
  {
   "cell_type": "code",
   "execution_count": 54,
   "id": "89698754-beed-43e7-95ac-ca7e4403f31f",
   "metadata": {},
   "outputs": [
    {
     "data": {
      "text/plain": [
       "array([0. , 0.2, 0.4, 0.6, 0.8])"
      ]
     },
     "execution_count": 54,
     "metadata": {},
     "output_type": "execute_result"
    }
   ],
   "source": [
    "np.arange(0,1,0.2)"
   ]
  },
  {
   "cell_type": "code",
   "execution_count": null,
   "id": "0e03d88e-04c5-4925-b992-19286c8d6852",
   "metadata": {},
   "outputs": [],
   "source": []
  }
 ],
 "metadata": {
  "kernelspec": {
   "display_name": "Python 3 (ipykernel)",
   "language": "python",
   "name": "python3"
  },
  "language_info": {
   "codemirror_mode": {
    "name": "ipython",
    "version": 3
   },
   "file_extension": ".py",
   "mimetype": "text/x-python",
   "name": "python",
   "nbconvert_exporter": "python",
   "pygments_lexer": "ipython3",
   "version": "3.8.10"
  }
 },
 "nbformat": 4,
 "nbformat_minor": 5
}
